{
 "cells": [
  {
   "cell_type": "code",
   "execution_count": 1,
   "id": "c4402bca",
   "metadata": {
    "scrolled": true
   },
   "outputs": [
    {
     "name": "stdout",
     "output_type": "stream",
     "text": [
      "OctreeLocalizer: init\n",
      "Spatial localizer init done\n",
      "Computing initial guess\n",
      "\n",
      "StaticStructural :: solveYourselfAt - Solving step 1, metastep 1, (neq = 885)\n",
      "CALMLS:       Initial step length: 2.500000e-02   \n",
      "CALMLS:       Iteration       LoadLevel       ForceError      DisplError    \n",
      "----------------------------------------------------------------------------\n",
      "CALMLS:       1               6.105389e+00    1.532959e-13    1.034151e-14   \n",
      "CALMLS:       Adjusted step length: 2.500000e-02   \n",
      "Checking rules...\n",
      "EngngModel info: user time consumed by solution step 1: 0.01s\n",
      "Computing initial guess\n",
      "\n",
      "StaticStructural :: solveYourselfAt - Solving step 2, metastep 1, (neq = 885)\n",
      "CALMLS:       Initial step length: 2.500000e-02   \n",
      "CALMLS:       Iteration       LoadLevel       ForceError      DisplError    \n",
      "----------------------------------------------------------------------------\n",
      "CALMLS:       1               1.221078e+01    2.253033e-13    5.261375e-15   \n",
      "CALMLS:       Adjusted step length: 2.500000e-02   \n",
      "Checking rules...\n",
      "EngngModel info: user time consumed by solution step 2: 0.01s\n",
      "Computing initial guess\n",
      "\n",
      "StaticStructural :: solveYourselfAt - Solving step 3, metastep 1, (neq = 885)\n",
      "CALMLS:       Initial step length: 2.500000e-02   \n",
      "CALMLS:       Iteration       LoadLevel       ForceError      DisplError    \n",
      "----------------------------------------------------------------------------\n",
      "CALMLS:       1               1.824665e+01    7.121024e-02    5.344641e-04   \n",
      "CALMLS:       2               1.820844e+01    3.981827e-02    2.931829e-04   \n",
      "CALMLS:       3               1.818728e+01    2.227402e-02    1.622202e-04   \n",
      "CALMLS:       4               1.817551e+01    1.246129e-02    9.019416e-05   \n",
      "CALMLS:       5               1.816895e+01    6.971680e-03    5.028471e-05   \n",
      "CALMLS:       6               1.816528e+01    3.900427e-03    2.807747e-05   \n",
      "CALMLS:       7               1.816323e+01    2.182153e-03    1.569108e-05   \n",
      "CALMLS:       8               1.816209e+01    1.220834e-03    8.773163e-06   \n",
      "CALMLS:       9               1.816145e+01    6.830101e-04    4.906554e-06   \n",
      "CALMLS:       10              1.816109e+01    3.821175e-04    2.744495e-06   \n",
      "CALMLS:       11              1.816089e+01    2.137797e-04    1.535270e-06   \n",
      "CALMLS:       12              1.816078e+01    1.196012e-04    8.588707e-07   \n",
      "CALMLS:       13              1.816072e+01    6.691212e-05    4.804876e-07   \n",
      "CALMLS:       Adjusted step length: 2.500000e-02   \n",
      "Checking rules...\n",
      "EngngModel info: user time consumed by solution step 3: 0.02s\n",
      "Computing initial guess\n",
      "\n",
      "StaticStructural :: solveYourselfAt - Solving step 4, metastep 1, (neq = 885)\n",
      "CALMLS:       Initial step length: 2.500000e-02   \n",
      "CALMLS:       Iteration       LoadLevel       ForceError      DisplError    \n",
      "----------------------------------------------------------------------------\n",
      "CALMLS:       1               2.402592e+01    1.154636e-01    1.082441e-03   \n",
      "CALMLS:       2               2.393380e+01    6.259961e-02    5.284547e-04   \n",
      "CALMLS:       3               2.388124e+01    3.743590e-02    3.029284e-04   \n",
      "CALMLS:       4               2.384947e+01    2.311139e-02    1.847508e-04   \n",
      "CALMLS:       5               2.383005e+01    1.438735e-02    1.138543e-04   \n",
      "CALMLS:       6               2.381810e+01    8.966943e-03    7.046196e-05   \n",
      "CALMLS:       7               2.381073e+01    5.585507e-03    4.369084e-05   \n",
      "CALMLS:       8               2.380616e+01    3.476564e-03    2.711661e-05   \n",
      "CALMLS:       9               2.380332e+01    2.162604e-03    1.683821e-05   \n",
      "CALMLS:       10              2.380157e+01    1.344701e-03    1.045867e-05   \n",
      "CALMLS:       11              2.380047e+01    8.359102e-04    6.497184e-06   \n",
      "CALMLS:       12              2.379980e+01    5.195433e-04    4.036586e-06   \n",
      "CALMLS:       13              2.379938e+01    3.228789e-04    2.507998e-06   \n",
      "CALMLS:       14              2.379911e+01    2.006461e-04    1.558312e-06   \n",
      "CALMLS:       15              2.379895e+01    1.246824e-04  "
     ]
    }
   ],
   "source": [
    "import oofempy\n",
    "dr=oofempy.OOFEMTXTDataReader(\"/home/jovyan/oofem/examples/c.in\")\n",
    "problem=oofempy.InstanciateProblem(dr, oofempy.problemMode.processor, False, None, False)\n",
    "problem.init()\n",
    "problem.solveYourself()\n",
    "\n"
   ]
  },
  {
   "cell_type": "code",
   "execution_count": 2,
   "id": "57d3dca0",
   "metadata": {},
   "outputs": [
    {
     "name": "stdout",
     "output_type": "stream",
     "text": [
      "  9.682561e-07   \n",
      "CALMLS:       16              2.379885e+01    7.747649e-05    6.016326e-07   \n"
     ]
    }
   ],
   "source": [
    "problem.terminateAnalysis()"
   ]
  },
  {
   "cell_type": "code",
   "execution_count": 3,
   "id": "a2505ad0",
   "metadata": {},
   "outputs": [
    {
     "name": "stdout",
     "output_type": "stream",
     "text": [
      "<oofempy.EngngModel object at 0x7f38542e18f0>\n"
     ]
    }
   ],
   "source": [
    "print(problem)"
   ]
  }
 ],
 "metadata": {
  "kernelspec": {
   "display_name": "Python 3 (ipykernel)",
   "language": "python",
   "name": "python3"
  },
  "language_info": {
   "codemirror_mode": {
    "name": "ipython",
    "version": 3
   },
   "file_extension": ".py",
   "mimetype": "text/x-python",
   "name": "python",
   "nbconvert_exporter": "python",
   "pygments_lexer": "ipython3",
   "version": "3.8.10"
  }
 },
 "nbformat": 4,
 "nbformat_minor": 5
}
