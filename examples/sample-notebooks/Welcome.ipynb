{
 "cells": [
  {
   "cell_type": "markdown",
   "id": "c3f633c4",
   "metadata": {},
   "source": [
    "# Welcome to oofem training docker environment\n",
    "\n",
    "This docker container contains precompiled oofem solver for your testing and experiments. \n",
    "It also offers jupyter notebbok where you can experiment with oofem python interface.\n",
    "\n",
    "### Use precompiled oofem\n",
    "- run oofemcourse container and start interactive shell\n",
    "  `sudo docker run -it oofemcourse bash`\n",
    "- you will have `oofem` in your path\n",
    "  `oofem -v`\n",
    "- you can use sample problems located in /home/jovyan/oofem-examples\n",
    "\n",
    "### Use jupyter notebook \n",
    "- your jupyter notebook is accesible at following url (this page)\n",
    "  `http://127.0.0.1:8888`\n",
    "- sample notebooks\n",
    "  * <a href=\"/sample-notebooks/running_solver_demo.ipynb\">running the solver</a>\n",
    "  * <a href=\"/sample-notebooks/running_solver_demo.ipynb\">running the solver</a>\n", 
    "  * <a href=\"/sample-notebooks/vtkdemo.ipynb\">vtkdemo</a>\n",
    "  \n",
    "  \n",
    "Enjoy\n",
    "\n",
    "  "
   ]
  },
  {
   "cell_type": "code",
   "execution_count": null,
   "id": "682fd89e",
   "metadata": {},
   "outputs": [],
   "source": []
  }
 ],
 "metadata": {
  "kernelspec": {
   "display_name": "Python 3 (ipykernel)",
   "language": "python",
   "name": "python3"
  },
  "language_info": {
   "codemirror_mode": {
    "name": "ipython",
    "version": 3
   },
   "file_extension": ".py",
   "mimetype": "text/x-python",
   "name": "python",
   "nbconvert_exporter": "python",
   "pygments_lexer": "ipython3",
   "version": "3.8.10"
  }
 },
 "nbformat": 4,
 "nbformat_minor": 5
}
